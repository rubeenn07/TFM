{
  "nbformat": 4,
  "nbformat_minor": 0,
  "metadata": {
    "colab": {
      "provenance": [],
      "authorship_tag": "ABX9TyOibRQ8ig+u0h3wF4NJDY5E",
      "include_colab_link": true
    },
    "kernelspec": {
      "name": "python3",
      "display_name": "Python 3"
    },
    "language_info": {
      "name": "python"
    }
  },
  "cells": [
    {
      "cell_type": "markdown",
      "metadata": {
        "id": "view-in-github",
        "colab_type": "text"
      },
      "source": [
        "<a href=\"https://colab.research.google.com/github/rubeenn07/TFM/blob/main/codigo.ipynb\" target=\"_parent\"><img src=\"https://colab.research.google.com/assets/colab-badge.svg\" alt=\"Open In Colab\"/></a>"
      ]
    },
    {
      "cell_type": "markdown",
      "source": [
        "# **_TFM: Big Data, Data Science & IA_**\n",
        "\n",
        "### **Título**: \"Desarrollo de un sistema OCR mejorado mediante análisis contextual de documentos y conversión de texto a audio\"\n",
        "\n",
        "### **Descripción**: Desarrollar un sistema de OCR (Optical Character Recognision) que no solo reconozca texto manuscrito, sino que también mejore la calidad del texto reconocido a través del análisis contextual utilizando técnicas de procesamiento de lenguaje natural (NLP). Una vez corregido el texto, el sistema lo convertirá en audio, proporcionando una solución accesible y adaptable a distintos tipos de documentos y estilos de escritura."
      ],
      "metadata": {
        "id": "7z0Y0nkrgLjY"
      }
    },
    {
      "cell_type": "code",
      "source": [
        "# Aqui empieza nuestro proyecto"
      ],
      "metadata": {
        "id": "1FSsQmychvC_"
      },
      "execution_count": 13,
      "outputs": []
    }
  ]
}